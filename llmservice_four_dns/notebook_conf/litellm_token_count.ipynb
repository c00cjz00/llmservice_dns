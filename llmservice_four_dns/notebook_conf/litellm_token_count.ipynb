{
 "cells": [
  {
   "cell_type": "code",
   "execution_count": null,
   "id": "10649a53",
   "metadata": {},
   "outputs": [],
   "source": [
    "pip install litellm"
   ]
  },
  {
   "cell_type": "code",
   "execution_count": null,
   "id": "7b60bff1",
   "metadata": {},
   "outputs": [],
   "source": [
    "# 模型下載\n",
    "from huggingface_hub import snapshot_download\n",
    "\n",
    "model_id = \"taide/Llama3-TAIDE-LX-8B-Chat-Alpha1\" # hugginFace's model name\n",
    "snapshot_download(\n",
    "    repo_id=model_id, \n",
    "    local_dir=\"taide/Llama3-TAIDE-LX-8B-Chat-Alpha1\",\n",
    "    local_dir_use_symlinks=False,\n",
    "    revision=\"main\",\n",
    "    use_auth_token=\"hf_\")"
   ]
  },
  {
   "cell_type": "code",
   "execution_count": 4,
   "id": "f447ac35",
   "metadata": {},
   "outputs": [
    {
     "name": "stdout",
     "output_type": "stream",
     "text": [
      "openai tokens: 12; llama2 tokens: 17; llama3 tokens: 8\n",
      "my tokens: 8\n"
     ]
    }
   ],
   "source": [
    "from litellm import create_pretrained_tokenizer, create_tokenizer, encode, decode, token_counter\n",
    "import json\n",
    "with open(\"taide/Llama3-TAIDE-LX-8B-Chat-Alpha1/tokenizer.json\") as f:\n",
    "    json_data = json.load(f)\n",
    "json_str = json.dumps(json_data)\n",
    "custom_tokenizer = create_tokenizer(json_str)\n",
    "\n",
    "### test the openai, claude, cohere and llama2 tokenizers.\n",
    "### The tokenizer value should be different for all\n",
    "sample_text = \"今天要吃麥當勞\"\n",
    "\n",
    "# openai tokenizer\n",
    "openai_tokens = token_counter(model=\"gpt-3.5-turbo\", text=sample_text)\n",
    "\n",
    "# llama2 tokenizer\n",
    "llama2_tokens = token_counter(model=\"meta-llama/Llama-2-7b\", text=sample_text)\n",
    "\n",
    "# llama2 tokenizer\n",
    "llama3_tokens = token_counter(model=\"meta-llama/Llama-3-8b\", text=sample_text)\n",
    "\n",
    "# 自訂 tokenizer\n",
    "my_tokens = token_counter(model='', custom_tokenizer=custom_tokenizer, text=sample_text)\n",
    "\n",
    "print(\n",
    "    f\"openai tokens: {openai_tokens}; llama2 tokens: {llama2_tokens}; llama3 tokens: {llama3_tokens}\"\n",
    ")\n",
    "print(\n",
    "    f\"my tokens: {my_tokens}\"\n",
    ")"
   ]
  },
  {
   "cell_type": "code",
   "execution_count": null,
   "id": "925febe1",
   "metadata": {},
   "outputs": [],
   "source": []
  }
 ],
 "metadata": {
  "kernelspec": {
   "display_name": "Python 3 (ipykernel)",
   "language": "python",
   "name": "python3"
  },
  "language_info": {
   "codemirror_mode": {
    "name": "ipython",
    "version": 3
   },
   "file_extension": ".py",
   "mimetype": "text/x-python",
   "name": "python",
   "nbconvert_exporter": "python",
   "pygments_lexer": "ipython3",
   "version": "3.10.12"
  }
 },
 "nbformat": 4,
 "nbformat_minor": 5
}
