{
 "cells": [
  {
   "cell_type": "code",
   "execution_count": 1,
   "id": "79117140",
   "metadata": {},
   "outputs": [
    {
     "name": "stdout",
     "output_type": "stream",
     "text": [
      "\u001b[33mWARNING: Running pip as the 'root' user can result in broken permissions and conflicting behaviour with the system package manager. It is recommended to use a virtual environment instead: https://pip.pypa.io/warnings/venv\u001b[0m\u001b[33m\n",
      "\u001b[0m"
     ]
    }
   ],
   "source": [
    "#  IProgress ipywidgets\n",
    "!pip install  IProgress ipywidgets -q"
   ]
  },
  {
   "cell_type": "code",
   "execution_count": null,
   "id": "befee79c",
   "metadata": {},
   "outputs": [],
   "source": [
    "# export model \n",
    "!pip install optimum auto-gptq -q"
   ]
  },
  {
   "cell_type": "code",
   "execution_count": null,
   "id": "e4887fae",
   "metadata": {},
   "outputs": [],
   "source": [
    "# prediction\n",
    "!pip install jieba nltk rouge-chinese -q"
   ]
  },
  {
   "cell_type": "code",
   "execution_count": null,
   "id": "05fef5b1",
   "metadata": {},
   "outputs": [],
   "source": [
    "# excel\n",
    "!pip install openpyxl -q"
   ]
  },
  {
   "cell_type": "code",
   "execution_count": null,
   "id": "14ad29fb",
   "metadata": {},
   "outputs": [],
   "source": [
    "# 簡體轉繁體中文\n",
    "!pip install opencc opencc-python-reimplemented -q"
   ]
  },
  {
   "cell_type": "code",
   "execution_count": null,
   "id": "f5b0032f",
   "metadata": {},
   "outputs": [],
   "source": [
    "# huggingface\n",
    "!pip install huggingface_hub hf_transfer -q"
   ]
  },
  {
   "cell_type": "code",
   "execution_count": null,
   "id": "71e69595",
   "metadata": {},
   "outputs": [],
   "source": []
  }
 ],
 "metadata": {
  "kernelspec": {
   "display_name": "Python 3 (ipykernel)",
   "language": "python",
   "name": "python3"
  },
  "language_info": {
   "codemirror_mode": {
    "name": "ipython",
    "version": 3
   },
   "file_extension": ".py",
   "mimetype": "text/x-python",
   "name": "python",
   "nbconvert_exporter": "python",
   "pygments_lexer": "ipython3",
   "version": "3.10.12"
  }
 },
 "nbformat": 4,
 "nbformat_minor": 5
}
